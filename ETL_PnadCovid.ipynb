{
 "cells": [
  {
   "cell_type": "markdown",
   "metadata": {},
   "source": [
    "# Bibliotecas"
   ]
  },
  {
   "cell_type": "code",
   "execution_count": null,
   "metadata": {},
   "outputs": [],
   "source": [
    "# Biblioteca utilizado para fazer a leitura das fontes (CSV - Database), tratativas e inclusão dos dados no banco SQL:\n",
    "import pandas as pd\n",
    "from glob import glob\n",
    "import pyodbc\n",
    "from sqlalchemy import create_engine\n",
    "from urllib.parse import quote_plus\n",
    "\n",
    "# aumentar o limite de colunas do pandas:\n",
    "pd.set_option('display.max_columns', None)"
   ]
  },
  {
   "cell_type": "markdown",
   "metadata": {},
   "source": [
    "# Lendo os arquivos (caminho da Fonte/Database)"
   ]
  },
  {
   "cell_type": "code",
   "execution_count": null,
   "metadata": {},
   "outputs": [],
   "source": [
    "# Digite o caminho e não se espeça de inserir a extensão dele no final da str:\n",
    "files = sorted(glob(r'C:\\Users\\alefc\\OneDrive\\Documentos\\FIAP\\Fase03\\TechChall\\PNAD_COVID\\*.csv'))\n",
    "\n",
    "## Caminho com os dados na web: Downloads > Microdados > Dados: https://www.ibge.gov.br/estatisticas/sociais/trabalho/27946-divulgacao-semanal-pnadcovid1.html?=&t=downloads\n",
    "     \n",
    "# Após armazenarmos o caminho dos arquivos em variáveis, vamos fazer a leitura desses arquivos utilizando Pandas:\n",
    "pnadCovid092020 = pd.read_csv(files[0], sep=',', decimal='.')\n",
    "pnadCovid102020 = pd.read_csv(files[1], sep=',', decimal='.')\n",
    "pnadCovid112020 = pd.read_csv(files[2], sep=',', decimal='.')"
   ]
  },
  {
   "cell_type": "markdown",
   "metadata": {},
   "source": [
    "### Uma das etapas do nosso processo de análise de dados é lidar com os valores ausentes na fonte. Para isso, vamos usar uma estratégia simples: mapear e classificar os campos em branco para '-1'. Dessa forma, podemos identificar facilmente quais registros não foram mapeados e tratá-los de acordo com o nosso objetivo."
   ]
  },
  {
   "cell_type": "code",
   "execution_count": null,
   "metadata": {},
   "outputs": [],
   "source": [
    "# Comando para substituirmos os valores em branco:\n",
    "pnadCovid092020.fillna(-1, inplace = True)\n",
    "pnadCovid102020.fillna(-1, inplace = True)\n",
    "pnadCovid112020.fillna(-1, inplace = True)"
   ]
  },
  {
   "cell_type": "markdown",
   "metadata": {},
   "source": [
    "# SQL Server"
   ]
  },
  {
   "cell_type": "code",
   "execution_count": null,
   "metadata": {},
   "outputs": [],
   "source": [
    "# Parâmetros de conexão com o banco de dados:\n",
    "parametros = (\n",
    "    # Driver que será utilizado na conexão\n",
    "    'DRIVER={SQL Server};'\n",
    "    # IP ou nome do servidor.\n",
    "    'SERVER=.;'\n",
    "    # Banco que será utilizado.\n",
    "    'DATABASE=FIAP;'\n",
    "    # acesso pela credencial do windows\n",
    "    'Trusted_Connection=yes')\n",
    "\n",
    "url_db = quote_plus(parametros)\n",
    "\n",
    "db = create_engine(\"mssql+pyodbc:///?odbc_connect=%s\" % url_db)\n",
    "\n",
    "conexao = db.connect()"
   ]
  },
  {
   "cell_type": "code",
   "execution_count": null,
   "metadata": {},
   "outputs": [],
   "source": [
    "# Vamos carregar os dados na stage para realizarmos carga das dimensões e fato\n",
    "pnadCovid092020.to_sql(\n",
    "    name = 'stgPnadCovid',\n",
    "    schema='Staging',\n",
    "    con = db,\n",
    "    index = False,\n",
    "    if_exists = 'append',\n",
    "    chunksize=1000\n",
    ")\n",
    "\n",
    "pnadCovid102020.to_sql(\n",
    "    name = 'stgPnadCovid',\n",
    "    schema='Staging',\n",
    "    con = db,\n",
    "    index = False,\n",
    "    if_exists = 'append',\n",
    "    chunksize=1000\n",
    ")\n",
    "\n",
    "pnadCovid112020.to_sql(\n",
    "    name = 'stgPnadCovid',\n",
    "    schema='Staging',\n",
    "    con = db,\n",
    "    index = False,\n",
    "    if_exists = 'append',\n",
    "    chunksize=1000\n",
    ")"
   ]
  }
 ],
 "metadata": {
  "interpreter": {
   "hash": "ac722202533a48fac2f4f01a57fba478222c2c8ca76f15bf45b32fc4997851fb"
  },
  "kernelspec": {
   "display_name": "Python 3.9.1 ('auto': venv)",
   "language": "python",
   "name": "python3"
  },
  "language_info": {
   "codemirror_mode": {
    "name": "ipython",
    "version": 3
   },
   "file_extension": ".py",
   "mimetype": "text/x-python",
   "name": "python",
   "nbconvert_exporter": "python",
   "pygments_lexer": "ipython3",
   "version": "3.9.13"
  },
  "orig_nbformat": 4
 },
 "nbformat": 4,
 "nbformat_minor": 2
}
